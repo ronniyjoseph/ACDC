{
 "cells": [
  {
   "cell_type": "code",
   "execution_count": 8,
   "metadata": {},
   "outputs": [],
   "source": [
    "import sys\n",
    "import numpy\n",
    "from matplotlib import pyplot\n",
    "sys.path.append(\"../../../beam_perturbations/code/tile_beam_perturbations/\")\n",
    "sys.path.append(\"../../corrcal2\")\n",
    "\n",
    "from radiotelescope import RadioTelescope\n",
    "from corrcal2 import make_uv_grid"
   ]
  },
  {
   "cell_type": "code",
   "execution_count": 10,
   "metadata": {},
   "outputs": [],
   "source": [
    "shape = 'square'\n",
    "extent= 10\n",
    "number_antennas = 4\n",
    "x_center = 0\n",
    "y_center = 0\n",
    "\n",
    "\n",
    "frequency_channels = numpy.array([150])*1e6\n"
   ]
  },
  {
   "cell_type": "code",
   "execution_count": 17,
   "metadata": {},
   "outputs": [],
   "source": [
    "scalefactors = numpy.linspace(1, 20, 20)\n",
    "redundancy = numpy.zeros_like(scalefactors)\n",
    "counter = 0\n",
    "for i in scalefactors:\n",
    "    array_parameters = [shape, extent*i, number_antennas*i, x_center, y_center]\n",
    "    telescope = RadioTelescope(load= False, shape = array_parameters, frequency_channels = frequency_channels)\n",
    "    \n",
    "    u = telescope.baseline_table.u_coordinates\n",
    "    v = telescope.baseline_table.v_coordinates\n",
    "    \n",
    "    ii, groups_indices, conjugates_flags = make_uv_grid(u,v)\n",
    "    \n",
    "    redundancy[counter] = len(groups_indices)/len(u)\n",
    "    \n",
    "    counter +=1\n",
    "\n",
    "    \n",
    "    \n",
    "    \n"
   ]
  },
  {
   "cell_type": "code",
   "execution_count": 23,
   "metadata": {},
   "outputs": [
    {
     "data": {
      "image/png": "[encoded data removed]",
      "text/plain": [
       "<Figure size 432x288 with 1 Axes>"
      ]
     },
     "metadata": {
      "needs_background": "light"
     },
     "output_type": "display_data"
    }
   ],
   "source": [
    "pyplot.semilogy(scalefactors, 1/redundancy)\n",
    "pyplot.show()"
   ]
  },
  {
   "cell_type": "code",
   "execution_count": null,
   "metadata": {},
   "outputs": [],
   "source": []
  }
 ],
 "metadata": {
  "kernelspec": {
   "display_name": "Python 3",
   "language": "python",
   "name": "python3"
  },
  "language_info": {
   "codemirror_mode": {
    "name": "ipython",
    "version": 3
   },
   "file_extension": ".py",
   "mimetype": "text/x-python",
   "name": "python",
   "nbconvert_exporter": "python",
   "pygments_lexer": "ipython3",
   "version": "3.7.0"
  }
 },
 "nbformat": 4,
 "nbformat_minor": 2
}
