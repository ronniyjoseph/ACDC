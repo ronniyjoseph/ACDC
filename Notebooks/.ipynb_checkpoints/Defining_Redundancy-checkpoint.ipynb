{
 "cells": [
  {
   "cell_type": "code",
   "execution_count": 8,
   "metadata": {},
   "outputs": [],
   "source": [
    "import sys\n",
    "import numpy\n",
    "from matplotlib import pyplot\n",
    "sys.path.append(\"../../../beam_perturbations/code/tile_beam_perturbations/\")\n",
    "sys.path.append(\"../../corrcal2\")\n",
    "\n",
    "from radiotelescope import RadioTelescope\n",
    "from corrcal2 import make_uv_grid"
   ]
  },
  {
   "cell_type": "code",
   "execution_count": 10,
   "metadata": {},
   "outputs": [],
   "source": [
    "shape = 'square'\n",
    "extent= 10\n",
    "number_antennas = 4\n",
    "x_center = 0\n",
    "y_center = 0\n",
    "\n",
    "\n",
    "frequency_channels = numpy.array([150])*1e6\n"
   ]
  },
  {
   "cell_type": "code",
   "execution_count": 11,
   "metadata": {},
   "outputs": [
    {
     "ename": "AttributeError",
     "evalue": "type object 'RadioTelescope' has no attribute 'BaselineTable'",
     "output_type": "error",
     "traceback": [
      "\u001b[0;31m---------------------------------------------------------------------------\u001b[0m",
      "\u001b[0;31mAttributeError\u001b[0m                            Traceback (most recent call last)",
      "\u001b[0;32m<ipython-input-11-b92a242a19d0>\u001b[0m in \u001b[0;36m<module>\u001b[0;34m()\u001b[0m\n\u001b[1;32m      6\u001b[0m     \u001b[0mtelescope\u001b[0m \u001b[0;34m=\u001b[0m \u001b[0mRadioTelescope\u001b[0m\u001b[0;34m(\u001b[0m\u001b[0mload\u001b[0m\u001b[0;34m=\u001b[0m \u001b[0;32mFalse\u001b[0m\u001b[0;34m,\u001b[0m \u001b[0mshape\u001b[0m \u001b[0;34m=\u001b[0m \u001b[0marray_parameters\u001b[0m\u001b[0;34m,\u001b[0m \u001b[0mfrequency_channels\u001b[0m \u001b[0;34m=\u001b[0m \u001b[0mfrequency_channels\u001b[0m\u001b[0;34m)\u001b[0m\u001b[0;34m\u001b[0m\u001b[0m\n\u001b[1;32m      7\u001b[0m \u001b[0;34m\u001b[0m\u001b[0m\n\u001b[0;32m----> 8\u001b[0;31m     \u001b[0mu\u001b[0m \u001b[0;34m=\u001b[0m \u001b[0mRadioTelescope\u001b[0m\u001b[0;34m.\u001b[0m\u001b[0mBaselineTable\u001b[0m\u001b[0;34m.\u001b[0m\u001b[0mu_coordinates\u001b[0m\u001b[0;34m\u001b[0m\u001b[0m\n\u001b[0m\u001b[1;32m      9\u001b[0m     \u001b[0mv\u001b[0m \u001b[0;34m=\u001b[0m \u001b[0mRadioTelescope\u001b[0m\u001b[0;34m.\u001b[0m\u001b[0mBaselineTable\u001b[0m\u001b[0;34m.\u001b[0m\u001b[0mv_coordinates\u001b[0m\u001b[0;34m\u001b[0m\u001b[0m\n\u001b[1;32m     10\u001b[0m \u001b[0;34m\u001b[0m\u001b[0m\n",
      "\u001b[0;31mAttributeError\u001b[0m: type object 'RadioTelescope' has no attribute 'BaselineTable'"
     ]
    }
   ],
   "source": [
    "scalefactors = numpy.linspace(1, 100, 100)\n",
    "redundancy = numpy.zeros_like(scalefactors)\n",
    "counter = 0\n",
    "for i in scalefactors:\n",
    "    array_parameters = [shape, extent*i, number_antennas*i, x_center, y_center]\n",
    "    telescope = RadioTelescope(load= False, shape = array_parameters, frequency_channels = frequency_channels)\n",
    "    \n",
    "    u = RadioTelescope.baselinetable.u_coordinates\n",
    "    v = RadioTelescope.baselinetable.v_coordinates\n",
    "    \n",
    "    ii, groups_indices, conjugates_flags = make_uv_grid(u,v)\n",
    "    \n",
    "    redundancy[counter] = len(groups_indices)/len(u)\n",
    "\n",
    "    \n",
    "    \n",
    "    \n"
   ]
  },
  {
   "cell_type": "code",
   "execution_count": null,
   "metadata": {},
   "outputs": [],
   "source": []
  }
 ],
 "metadata": {
  "kernelspec": {
   "display_name": "Python 3",
   "language": "python",
   "name": "python3"
  },
  "language_info": {
   "codemirror_mode": {
    "name": "ipython",
    "version": 3
   },
   "file_extension": ".py",
   "mimetype": "text/x-python",
   "name": "python",
   "nbconvert_exporter": "python",
   "pygments_lexer": "ipython3",
   "version": "3.7.0"
  }
 },
 "nbformat": 4,
 "nbformat_minor": 2
}
